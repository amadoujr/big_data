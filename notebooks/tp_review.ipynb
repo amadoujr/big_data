{
 "cells": [
  {
   "cell_type": "code",
   "execution_count": 1,
   "id": "5018924a-7e22-4b3b-9cb3-5f6f9a1ccb4d",
   "metadata": {},
   "outputs": [],
   "source": [
    "import pandas as pd\n",
    "import matplotlib.pyplot as plt\n",
    "import pickle\n",
    "import sys\n",
    "sys.path.append(\"../src/\")\n",
    "from tp_review import *"
   ]
  },
  {
   "cell_type": "code",
   "execution_count": 2,
   "id": "bf4a355b-53bf-41db-89e9-06d48282ad8e",
   "metadata": {},
   "outputs": [],
   "source": [
    "dataset = pd.read_csv('../data/train.csv',sep=';')"
   ]
  },
  {
   "cell_type": "markdown",
   "id": "9746e6a4-412e-4682-81c3-2a9c13337159",
   "metadata": {},
   "source": [
    "### Exploration des données"
   ]
  },
  {
   "cell_type": "code",
   "execution_count": 3,
   "id": "81ca9462-ac45-42dd-bfde-75456bc60210",
   "metadata": {},
   "outputs": [
    {
     "data": {
      "text/html": [
       "<div>\n",
       "<style scoped>\n",
       "    .dataframe tbody tr th:only-of-type {\n",
       "        vertical-align: middle;\n",
       "    }\n",
       "\n",
       "    .dataframe tbody tr th {\n",
       "        vertical-align: top;\n",
       "    }\n",
       "\n",
       "    .dataframe thead th {\n",
       "        text-align: right;\n",
       "    }\n",
       "</style>\n",
       "<table border=\"1\" class=\"dataframe\">\n",
       "  <thead>\n",
       "    <tr style=\"text-align: right;\">\n",
       "      <th></th>\n",
       "      <th>ID</th>\n",
       "      <th>review_content</th>\n",
       "      <th>review_title</th>\n",
       "      <th>review_stars</th>\n",
       "      <th>product</th>\n",
       "      <th>Target</th>\n",
       "    </tr>\n",
       "  </thead>\n",
       "  <tbody>\n",
       "    <tr>\n",
       "      <th>0</th>\n",
       "      <td>0</td>\n",
       "      <td>En appelant un acheteur pour demander si l'écr...</td>\n",
       "      <td>La Police s'inscrit en acheteur privé sur Pric...</td>\n",
       "      <td>5</td>\n",
       "      <td>2fbb619e3606f9b7c213e858a109cda771aa2c47ce50d5...</td>\n",
       "      <td>0</td>\n",
       "    </tr>\n",
       "    <tr>\n",
       "      <th>1</th>\n",
       "      <td>1</td>\n",
       "      <td>Alors, là, on a affaire au plus grand Navet ja...</td>\n",
       "      <td>Chef D'Oeuvre Absolu en vue...</td>\n",
       "      <td>5</td>\n",
       "      <td>7b56d9d378d9e999d293f301ac43d044cd7b4786d09afb...</td>\n",
       "      <td>1</td>\n",
       "    </tr>\n",
       "    <tr>\n",
       "      <th>2</th>\n",
       "      <td>2</td>\n",
       "      <td>Effet garanti sur la terrase. Ils donnent immé...</td>\n",
       "      <td>Effet garanti sur la terrase. Ils donnent immé...</td>\n",
       "      <td>3</td>\n",
       "      <td>7b37bf5dcb2fafd9229897910318a7dfa11a04ca36893c...</td>\n",
       "      <td>0</td>\n",
       "    </tr>\n",
       "    <tr>\n",
       "      <th>3</th>\n",
       "      <td>3</td>\n",
       "      <td>tres bon rapport qualite prix tre pratique en ...</td>\n",
       "      <td>bon produit</td>\n",
       "      <td>4</td>\n",
       "      <td>77d2dbd504b933ab3aaf7cb0cd81c22f7c3549012f4f88...</td>\n",
       "      <td>1</td>\n",
       "    </tr>\n",
       "    <tr>\n",
       "      <th>4</th>\n",
       "      <td>4</td>\n",
       "      <td>Ordinateur de bureau trés bien pour quelqu'un ...</td>\n",
       "      <td>Apple Power MAC G4</td>\n",
       "      <td>3</td>\n",
       "      <td>f574512e7d2dd1dd73c7f8f804bf16f14c932c5651a01b...</td>\n",
       "      <td>1</td>\n",
       "    </tr>\n",
       "  </tbody>\n",
       "</table>\n",
       "</div>"
      ],
      "text/plain": [
       "   ID                                     review_content  \\\n",
       "0   0  En appelant un acheteur pour demander si l'écr...   \n",
       "1   1  Alors, là, on a affaire au plus grand Navet ja...   \n",
       "2   2  Effet garanti sur la terrase. Ils donnent immé...   \n",
       "3   3  tres bon rapport qualite prix tre pratique en ...   \n",
       "4   4  Ordinateur de bureau trés bien pour quelqu'un ...   \n",
       "\n",
       "                                        review_title  review_stars  \\\n",
       "0  La Police s'inscrit en acheteur privé sur Pric...             5   \n",
       "1                     Chef D'Oeuvre Absolu en vue...             5   \n",
       "2  Effet garanti sur la terrase. Ils donnent immé...             3   \n",
       "3                                        bon produit             4   \n",
       "4                                 Apple Power MAC G4             3   \n",
       "\n",
       "                                             product  Target  \n",
       "0  2fbb619e3606f9b7c213e858a109cda771aa2c47ce50d5...       0  \n",
       "1  7b56d9d378d9e999d293f301ac43d044cd7b4786d09afb...       1  \n",
       "2  7b37bf5dcb2fafd9229897910318a7dfa11a04ca36893c...       0  \n",
       "3  77d2dbd504b933ab3aaf7cb0cd81c22f7c3549012f4f88...       1  \n",
       "4  f574512e7d2dd1dd73c7f8f804bf16f14c932c5651a01b...       1  "
      ]
     },
     "execution_count": 3,
     "metadata": {},
     "output_type": "execute_result"
    }
   ],
   "source": [
    "dataset.head()"
   ]
  },
  {
   "cell_type": "code",
   "execution_count": 4,
   "id": "529ceb41-36ce-4a26-8d9c-f722b3428afd",
   "metadata": {},
   "outputs": [
    {
     "name": "stdout",
     "output_type": "stream",
     "text": [
      "<class 'pandas.core.frame.DataFrame'>\n",
      "RangeIndex: 60000 entries, 0 to 59999\n",
      "Data columns (total 6 columns):\n",
      " #   Column          Non-Null Count  Dtype \n",
      "---  ------          --------------  ----- \n",
      " 0   ID              60000 non-null  int64 \n",
      " 1   review_content  60000 non-null  object\n",
      " 2   review_title    59997 non-null  object\n",
      " 3   review_stars    60000 non-null  int64 \n",
      " 4   product         60000 non-null  object\n",
      " 5   Target          60000 non-null  int64 \n",
      "dtypes: int64(3), object(3)\n",
      "memory usage: 2.7+ MB\n"
     ]
    }
   ],
   "source": [
    "dataset.info()"
   ]
  },
  {
   "cell_type": "markdown",
   "id": "073e74b3-fa9c-4041-88ff-351b022fef37",
   "metadata": {},
   "source": [
    "**Two equal reviews\n",
    "generally have the same label ?**"
   ]
  },
  {
   "cell_type": "code",
   "execution_count": 5,
   "id": "0c8d6848-cb66-4d6b-b7e9-738eb559eb0a",
   "metadata": {},
   "outputs": [
    {
     "data": {
      "text/plain": [
       "Target\n",
       "1    1022\n",
       "2     143\n",
       "Name: count, dtype: int64"
      ]
     },
     "execution_count": 5,
     "metadata": {},
     "output_type": "execute_result"
    }
   ],
   "source": [
    "duplicates = dataset[dataset.duplicated(subset='review_content', keep=False)]\n",
    "label_check = duplicates.groupby('review_content')['Target'].nunique()\n",
    "label_check.value_counts()"
   ]
  },
  {
   "cell_type": "code",
   "execution_count": 6,
   "id": "77b9dd16-c348-4fa6-a38c-8be472eb3e22",
   "metadata": {},
   "outputs": [
    {
     "data": {
      "text/plain": [
       "Text(0, 0.5, 'Nombre de critiques')"
      ]
     },
     "execution_count": 6,
     "metadata": {},
     "output_type": "execute_result"
    },
    {
     "data": {
      "image/png": "[encoded data removed]",
      "text/plain": [
       "<Figure size 800x600 with 1 Axes>"
      ]
     },
     "metadata": {},
     "output_type": "display_data"
    }
   ],
   "source": [
    "# Visualisation des critiques dupliquées avec plusieurs étiquettes différentes\n",
    "# Compte combien de critiques dupliquées ont des étiquettes conflictuelles\n",
    "conflicting_counts = label_check.value_counts()\n",
    "\n",
    "plt.figure(figsize=(8, 6))\n",
    "conflicting_counts.plot(kind='bar', color='skyblue')\n",
    "plt.title(\"Nombre de critiques dupliquées avec différentes étiquettes\")\n",
    "plt.xlabel(\"Nombre d'étiquettes différentes pour les critiques dupliquées\")\n",
    "plt.ylabel(\"Nombre de critiques\")"
   ]
  },
  {
   "cell_type": "markdown",
   "id": "4bf1fbdc-8d6e-413a-bb5a-7723fad913ae",
   "metadata": {},
   "source": [
    "**Commentaires :**\n",
    "\n",
    "Comme suggéré dans le poly du cours, on peut effectivement supprimé les *review* dupliquées car genéralement,\n",
    "deux review ont le même label.\n",
    "\n",
    "- je vais aussi supprimer la colonne *product* en même temps"
   ]
  },
  {
   "cell_type": "code",
   "execution_count": 7,
   "id": "7b61ddf7-686a-4d00-8ce7-fdcd9b63c8de",
   "metadata": {},
   "outputs": [],
   "source": [
    "dataset_cleaned = pre_process_data(dataset)"
   ]
  },
  {
   "cell_type": "code",
   "execution_count": 8,
   "id": "1ebd425b-65df-4462-ac2f-a1e045098718",
   "metadata": {},
   "outputs": [
    {
     "data": {
      "text/plain": [
       "(53636, 5)"
      ]
     },
     "execution_count": 8,
     "metadata": {},
     "output_type": "execute_result"
    }
   ],
   "source": [
    "dataset_cleaned.shape"
   ]
  },
  {
   "cell_type": "markdown",
   "id": "4f18efca-4ddd-4013-9c2d-f8139aa4d148",
   "metadata": {},
   "source": [
    "#### Extraction des features syntaxiques"
   ]
  },
  {
   "cell_type": "markdown",
   "id": "c664f1e6-58bf-40f8-8bd5-37d5e4e5aa2a",
   "metadata": {},
   "source": [
    "**Longueur du texte (nombre de caractères/mots) :**"
   ]
  },
  {
   "cell_type": "code",
   "execution_count": 9,
   "id": "73629b0d-1ea3-40ee-97ab-ce48fbb2453c",
   "metadata": {},
   "outputs": [],
   "source": [
    "dataset_cleaned = extract_words_char_in_review(dataset_cleaned)"
   ]
  },
  {
   "cell_type": "code",
   "execution_count": 10,
   "id": "b2361670-f1ff-4445-84de-b5c4fe78f1ab",
   "metadata": {},
   "outputs": [
    {
     "data": {
      "text/html": [
       "<div>\n",
       "<style scoped>\n",
       "    .dataframe tbody tr th:only-of-type {\n",
       "        vertical-align: middle;\n",
       "    }\n",
       "\n",
       "    .dataframe tbody tr th {\n",
       "        vertical-align: top;\n",
       "    }\n",
       "\n",
       "    .dataframe thead th {\n",
       "        text-align: right;\n",
       "    }\n",
       "</style>\n",
       "<table border=\"1\" class=\"dataframe\">\n",
       "  <thead>\n",
       "    <tr style=\"text-align: right;\">\n",
       "      <th></th>\n",
       "      <th>ID</th>\n",
       "      <th>review_content</th>\n",
       "      <th>review_title</th>\n",
       "      <th>review_stars</th>\n",
       "      <th>Target</th>\n",
       "      <th>content_nb_char</th>\n",
       "      <th>content_nb_words</th>\n",
       "    </tr>\n",
       "  </thead>\n",
       "  <tbody>\n",
       "    <tr>\n",
       "      <th>0</th>\n",
       "      <td>0</td>\n",
       "      <td>En appelant un acheteur pour demander si l'écr...</td>\n",
       "      <td>La Police s'inscrit en acheteur privé sur Pric...</td>\n",
       "      <td>5</td>\n",
       "      <td>0</td>\n",
       "      <td>382</td>\n",
       "      <td>62</td>\n",
       "    </tr>\n",
       "    <tr>\n",
       "      <th>1</th>\n",
       "      <td>1</td>\n",
       "      <td>Alors, là, on a affaire au plus grand Navet ja...</td>\n",
       "      <td>Chef D'Oeuvre Absolu en vue...</td>\n",
       "      <td>5</td>\n",
       "      <td>1</td>\n",
       "      <td>1000</td>\n",
       "      <td>179</td>\n",
       "    </tr>\n",
       "    <tr>\n",
       "      <th>2</th>\n",
       "      <td>2</td>\n",
       "      <td>Effet garanti sur la terrase. Ils donnent immé...</td>\n",
       "      <td>Effet garanti sur la terrase. Ils donnent immé...</td>\n",
       "      <td>3</td>\n",
       "      <td>0</td>\n",
       "      <td>192</td>\n",
       "      <td>32</td>\n",
       "    </tr>\n",
       "    <tr>\n",
       "      <th>3</th>\n",
       "      <td>3</td>\n",
       "      <td>tres bon rapport qualite prix tre pratique en ...</td>\n",
       "      <td>bon produit</td>\n",
       "      <td>4</td>\n",
       "      <td>1</td>\n",
       "      <td>106</td>\n",
       "      <td>18</td>\n",
       "    </tr>\n",
       "    <tr>\n",
       "      <th>4</th>\n",
       "      <td>4</td>\n",
       "      <td>Ordinateur de bureau trés bien pour quelqu'un ...</td>\n",
       "      <td>Apple Power MAC G4</td>\n",
       "      <td>3</td>\n",
       "      <td>1</td>\n",
       "      <td>124</td>\n",
       "      <td>21</td>\n",
       "    </tr>\n",
       "  </tbody>\n",
       "</table>\n",
       "</div>"
      ],
      "text/plain": [
       "   ID                                     review_content  \\\n",
       "0   0  En appelant un acheteur pour demander si l'écr...   \n",
       "1   1  Alors, là, on a affaire au plus grand Navet ja...   \n",
       "2   2  Effet garanti sur la terrase. Ils donnent immé...   \n",
       "3   3  tres bon rapport qualite prix tre pratique en ...   \n",
       "4   4  Ordinateur de bureau trés bien pour quelqu'un ...   \n",
       "\n",
       "                                        review_title  review_stars  Target  \\\n",
       "0  La Police s'inscrit en acheteur privé sur Pric...             5       0   \n",
       "1                     Chef D'Oeuvre Absolu en vue...             5       1   \n",
       "2  Effet garanti sur la terrase. Ils donnent immé...             3       0   \n",
       "3                                        bon produit             4       1   \n",
       "4                                 Apple Power MAC G4             3       1   \n",
       "\n",
       "   content_nb_char  content_nb_words  \n",
       "0              382                62  \n",
       "1             1000               179  \n",
       "2              192                32  \n",
       "3              106                18  \n",
       "4              124                21  "
      ]
     },
     "execution_count": 10,
     "metadata": {},
     "output_type": "execute_result"
    }
   ],
   "source": [
    "dataset_cleaned.head()"
   ]
  },
  {
   "cell_type": "markdown",
   "id": "81e2c7f4-6281-4da2-8269-447dbef3c06a",
   "metadata": {},
   "source": [
    "**Présence de mots-clés :** \n",
    "\n",
    "But ? détecter les mots-clés dans le contenu et les retourner\n"
   ]
  },
  {
   "cell_type": "code",
   "execution_count": 11,
   "id": "6a10ab60-e5cc-4117-b54c-f2e66f6b325e",
   "metadata": {},
   "outputs": [],
   "source": [
    "dataset_cleaned['keyword_count'] = dataset['review_content'].apply(count_keywords)"
   ]
  },
  {
   "cell_type": "code",
   "execution_count": 12,
   "id": "7ab1b2c7-f871-48a0-84b7-8d25db8157ce",
   "metadata": {},
   "outputs": [
    {
     "data": {
      "text/html": [
       "<div>\n",
       "<style scoped>\n",
       "    .dataframe tbody tr th:only-of-type {\n",
       "        vertical-align: middle;\n",
       "    }\n",
       "\n",
       "    .dataframe tbody tr th {\n",
       "        vertical-align: top;\n",
       "    }\n",
       "\n",
       "    .dataframe thead th {\n",
       "        text-align: right;\n",
       "    }\n",
       "</style>\n",
       "<table border=\"1\" class=\"dataframe\">\n",
       "  <thead>\n",
       "    <tr style=\"text-align: right;\">\n",
       "      <th></th>\n",
       "      <th>ID</th>\n",
       "      <th>review_content</th>\n",
       "      <th>review_title</th>\n",
       "      <th>review_stars</th>\n",
       "      <th>Target</th>\n",
       "      <th>content_nb_char</th>\n",
       "      <th>content_nb_words</th>\n",
       "      <th>keyword_count</th>\n",
       "    </tr>\n",
       "  </thead>\n",
       "  <tbody>\n",
       "    <tr>\n",
       "      <th>0</th>\n",
       "      <td>0</td>\n",
       "      <td>En appelant un acheteur pour demander si l'écr...</td>\n",
       "      <td>La Police s'inscrit en acheteur privé sur Pric...</td>\n",
       "      <td>5</td>\n",
       "      <td>0</td>\n",
       "      <td>382</td>\n",
       "      <td>62</td>\n",
       "      <td>[]</td>\n",
       "    </tr>\n",
       "    <tr>\n",
       "      <th>1</th>\n",
       "      <td>1</td>\n",
       "      <td>Alors, là, on a affaire au plus grand Navet ja...</td>\n",
       "      <td>Chef D'Oeuvre Absolu en vue...</td>\n",
       "      <td>5</td>\n",
       "      <td>1</td>\n",
       "      <td>1000</td>\n",
       "      <td>179</td>\n",
       "      <td>[bon, excellent]</td>\n",
       "    </tr>\n",
       "    <tr>\n",
       "      <th>2</th>\n",
       "      <td>2</td>\n",
       "      <td>Effet garanti sur la terrase. Ils donnent immé...</td>\n",
       "      <td>Effet garanti sur la terrase. Ils donnent immé...</td>\n",
       "      <td>3</td>\n",
       "      <td>0</td>\n",
       "      <td>192</td>\n",
       "      <td>32</td>\n",
       "      <td>[bien]</td>\n",
       "    </tr>\n",
       "    <tr>\n",
       "      <th>3</th>\n",
       "      <td>3</td>\n",
       "      <td>tres bon rapport qualite prix tre pratique en ...</td>\n",
       "      <td>bon produit</td>\n",
       "      <td>4</td>\n",
       "      <td>1</td>\n",
       "      <td>106</td>\n",
       "      <td>18</td>\n",
       "      <td>[bon]</td>\n",
       "    </tr>\n",
       "    <tr>\n",
       "      <th>4</th>\n",
       "      <td>4</td>\n",
       "      <td>Ordinateur de bureau trés bien pour quelqu'un ...</td>\n",
       "      <td>Apple Power MAC G4</td>\n",
       "      <td>3</td>\n",
       "      <td>1</td>\n",
       "      <td>124</td>\n",
       "      <td>21</td>\n",
       "      <td>[bien]</td>\n",
       "    </tr>\n",
       "  </tbody>\n",
       "</table>\n",
       "</div>"
      ],
      "text/plain": [
       "   ID                                     review_content  \\\n",
       "0   0  En appelant un acheteur pour demander si l'écr...   \n",
       "1   1  Alors, là, on a affaire au plus grand Navet ja...   \n",
       "2   2  Effet garanti sur la terrase. Ils donnent immé...   \n",
       "3   3  tres bon rapport qualite prix tre pratique en ...   \n",
       "4   4  Ordinateur de bureau trés bien pour quelqu'un ...   \n",
       "\n",
       "                                        review_title  review_stars  Target  \\\n",
       "0  La Police s'inscrit en acheteur privé sur Pric...             5       0   \n",
       "1                     Chef D'Oeuvre Absolu en vue...             5       1   \n",
       "2  Effet garanti sur la terrase. Ils donnent immé...             3       0   \n",
       "3                                        bon produit             4       1   \n",
       "4                                 Apple Power MAC G4             3       1   \n",
       "\n",
       "   content_nb_char  content_nb_words     keyword_count  \n",
       "0              382                62                []  \n",
       "1             1000               179  [bon, excellent]  \n",
       "2              192                32            [bien]  \n",
       "3              106                18             [bon]  \n",
       "4              124                21            [bien]  "
      ]
     },
     "execution_count": 12,
     "metadata": {},
     "output_type": "execute_result"
    }
   ],
   "source": [
    "dataset_cleaned.head()"
   ]
  },
  {
   "cell_type": "markdown",
   "id": "21124696-838d-4a3f-8aa7-f5f0e949f5f1",
   "metadata": {},
   "source": [
    "**Analyse des sentiments par étoiles :**\n",
    "\n",
    "On va créer une colonne binaire pour les avis positifs (3-5 étoiles) et négatifs (1-2 étoiles) "
   ]
  },
  {
   "cell_type": "code",
   "execution_count": 13,
   "id": "9b0c8360-433c-4524-acf7-320aba3f606d",
   "metadata": {},
   "outputs": [],
   "source": [
    "dataset_cleaned = add_sentiment(dataset_cleaned)"
   ]
  },
  {
   "cell_type": "code",
   "execution_count": 14,
   "id": "a04c0791-f4a0-4889-8989-ff3f047e0ac6",
   "metadata": {},
   "outputs": [
    {
     "data": {
      "text/plain": [
       "Text(0, 0.5, \"Nombre d'avis\")"
      ]
     },
     "execution_count": 14,
     "metadata": {},
     "output_type": "execute_result"
    },
    {
     "data": {
      "image/png": "[encoded data removed]",
      "text/plain": [
       "<Figure size 640x480 with 1 Axes>"
      ]
     },
     "metadata": {},
     "output_type": "display_data"
    }
   ],
   "source": [
    "# Visualiser la répartition\n",
    "dataset_cleaned['sentiment'].value_counts().plot(kind='bar', color=['green', 'red'])\n",
    "plt.title(\"Répartition des avis selon le sentiment\")\n",
    "plt.xlabel(\"Sentiment\")\n",
    "plt.ylabel(\"Nombre d'avis\")"
   ]
  },
  {
   "cell_type": "code",
   "execution_count": 15,
   "id": "36c2fdb2-7ab2-4f2c-8fb0-b1ef2d7ce238",
   "metadata": {},
   "outputs": [
    {
     "data": {
      "text/plain": [
       "sentiment\n",
       "positive    48234\n",
       "negative     5402\n",
       "Name: count, dtype: int64"
      ]
     },
     "execution_count": 15,
     "metadata": {},
     "output_type": "execute_result"
    }
   ],
   "source": [
    "dataset_cleaned['sentiment'].value_counts()"
   ]
  },
  {
   "cell_type": "markdown",
   "id": "c2195fa7-ea1f-40ce-abf3-8436b194858f",
   "metadata": {},
   "source": [
    "**Commentaires :**\n",
    "\n",
    "la distribution des classes n'est pas uniforme, on a plus d'avis positives que d'avis négatives"
   ]
  },
  {
   "cell_type": "code",
   "execution_count": 16,
   "id": "78640a53-e53a-4f5f-908e-b03e4cfea6c2",
   "metadata": {},
   "outputs": [
    {
     "data": {
      "text/html": [
       "<div>\n",
       "<style scoped>\n",
       "    .dataframe tbody tr th:only-of-type {\n",
       "        vertical-align: middle;\n",
       "    }\n",
       "\n",
       "    .dataframe tbody tr th {\n",
       "        vertical-align: top;\n",
       "    }\n",
       "\n",
       "    .dataframe thead th {\n",
       "        text-align: right;\n",
       "    }\n",
       "</style>\n",
       "<table border=\"1\" class=\"dataframe\">\n",
       "  <thead>\n",
       "    <tr style=\"text-align: right;\">\n",
       "      <th></th>\n",
       "      <th>ID</th>\n",
       "      <th>review_content</th>\n",
       "      <th>review_title</th>\n",
       "      <th>review_stars</th>\n",
       "      <th>Target</th>\n",
       "      <th>content_nb_char</th>\n",
       "      <th>content_nb_words</th>\n",
       "      <th>keyword_count</th>\n",
       "      <th>sentiment</th>\n",
       "    </tr>\n",
       "  </thead>\n",
       "  <tbody>\n",
       "    <tr>\n",
       "      <th>0</th>\n",
       "      <td>0</td>\n",
       "      <td>En appelant un acheteur pour demander si l'écr...</td>\n",
       "      <td>La Police s'inscrit en acheteur privé sur Pric...</td>\n",
       "      <td>5</td>\n",
       "      <td>0</td>\n",
       "      <td>382</td>\n",
       "      <td>62</td>\n",
       "      <td>[]</td>\n",
       "      <td>positive</td>\n",
       "    </tr>\n",
       "    <tr>\n",
       "      <th>1</th>\n",
       "      <td>1</td>\n",
       "      <td>Alors, là, on a affaire au plus grand Navet ja...</td>\n",
       "      <td>Chef D'Oeuvre Absolu en vue...</td>\n",
       "      <td>5</td>\n",
       "      <td>1</td>\n",
       "      <td>1000</td>\n",
       "      <td>179</td>\n",
       "      <td>[bon, excellent]</td>\n",
       "      <td>positive</td>\n",
       "    </tr>\n",
       "    <tr>\n",
       "      <th>2</th>\n",
       "      <td>2</td>\n",
       "      <td>Effet garanti sur la terrase. Ils donnent immé...</td>\n",
       "      <td>Effet garanti sur la terrase. Ils donnent immé...</td>\n",
       "      <td>3</td>\n",
       "      <td>0</td>\n",
       "      <td>192</td>\n",
       "      <td>32</td>\n",
       "      <td>[bien]</td>\n",
       "      <td>positive</td>\n",
       "    </tr>\n",
       "    <tr>\n",
       "      <th>3</th>\n",
       "      <td>3</td>\n",
       "      <td>tres bon rapport qualite prix tre pratique en ...</td>\n",
       "      <td>bon produit</td>\n",
       "      <td>4</td>\n",
       "      <td>1</td>\n",
       "      <td>106</td>\n",
       "      <td>18</td>\n",
       "      <td>[bon]</td>\n",
       "      <td>positive</td>\n",
       "    </tr>\n",
       "    <tr>\n",
       "      <th>4</th>\n",
       "      <td>4</td>\n",
       "      <td>Ordinateur de bureau trés bien pour quelqu'un ...</td>\n",
       "      <td>Apple Power MAC G4</td>\n",
       "      <td>3</td>\n",
       "      <td>1</td>\n",
       "      <td>124</td>\n",
       "      <td>21</td>\n",
       "      <td>[bien]</td>\n",
       "      <td>positive</td>\n",
       "    </tr>\n",
       "  </tbody>\n",
       "</table>\n",
       "</div>"
      ],
      "text/plain": [
       "   ID                                     review_content  \\\n",
       "0   0  En appelant un acheteur pour demander si l'écr...   \n",
       "1   1  Alors, là, on a affaire au plus grand Navet ja...   \n",
       "2   2  Effet garanti sur la terrase. Ils donnent immé...   \n",
       "3   3  tres bon rapport qualite prix tre pratique en ...   \n",
       "4   4  Ordinateur de bureau trés bien pour quelqu'un ...   \n",
       "\n",
       "                                        review_title  review_stars  Target  \\\n",
       "0  La Police s'inscrit en acheteur privé sur Pric...             5       0   \n",
       "1                     Chef D'Oeuvre Absolu en vue...             5       1   \n",
       "2  Effet garanti sur la terrase. Ils donnent immé...             3       0   \n",
       "3                                        bon produit             4       1   \n",
       "4                                 Apple Power MAC G4             3       1   \n",
       "\n",
       "   content_nb_char  content_nb_words     keyword_count sentiment  \n",
       "0              382                62                []  positive  \n",
       "1             1000               179  [bon, excellent]  positive  \n",
       "2              192                32            [bien]  positive  \n",
       "3              106                18             [bon]  positive  \n",
       "4              124                21            [bien]  positive  "
      ]
     },
     "execution_count": 16,
     "metadata": {},
     "output_type": "execute_result"
    }
   ],
   "source": [
    "dataset_cleaned[dataset_cleaned.sentiment == 'positive'].head()"
   ]
  },
  {
   "cell_type": "code",
   "execution_count": 17,
   "id": "ca8cff54-9d75-41e0-8b86-e1f0a7ad4592",
   "metadata": {},
   "outputs": [
    {
     "data": {
      "text/html": [
       "<div>\n",
       "<style scoped>\n",
       "    .dataframe tbody tr th:only-of-type {\n",
       "        vertical-align: middle;\n",
       "    }\n",
       "\n",
       "    .dataframe tbody tr th {\n",
       "        vertical-align: top;\n",
       "    }\n",
       "\n",
       "    .dataframe thead th {\n",
       "        text-align: right;\n",
       "    }\n",
       "</style>\n",
       "<table border=\"1\" class=\"dataframe\">\n",
       "  <thead>\n",
       "    <tr style=\"text-align: right;\">\n",
       "      <th></th>\n",
       "      <th>ID</th>\n",
       "      <th>review_content</th>\n",
       "      <th>review_title</th>\n",
       "      <th>review_stars</th>\n",
       "      <th>Target</th>\n",
       "      <th>content_nb_char</th>\n",
       "      <th>content_nb_words</th>\n",
       "      <th>keyword_count</th>\n",
       "      <th>sentiment</th>\n",
       "    </tr>\n",
       "  </thead>\n",
       "  <tbody>\n",
       "    <tr>\n",
       "      <th>31</th>\n",
       "      <td>31</td>\n",
       "      <td>Boitier dus que dur externe ADDITEX Alu.\\nLe b...</td>\n",
       "      <td>Des problemes à gogo</td>\n",
       "      <td>1</td>\n",
       "      <td>1</td>\n",
       "      <td>417</td>\n",
       "      <td>71</td>\n",
       "      <td>[]</td>\n",
       "      <td>negative</td>\n",
       "    </tr>\n",
       "    <tr>\n",
       "      <th>40</th>\n",
       "      <td>40</td>\n",
       "      <td>il a marché 2 jours et depuis il ne marche plu...</td>\n",
       "      <td>forest gun</td>\n",
       "      <td>2</td>\n",
       "      <td>1</td>\n",
       "      <td>105</td>\n",
       "      <td>22</td>\n",
       "      <td>[bien]</td>\n",
       "      <td>negative</td>\n",
       "    </tr>\n",
       "    <tr>\n",
       "      <th>63</th>\n",
       "      <td>63</td>\n",
       "      <td>puce graphique nvidia deffectueuse reconnue pa...</td>\n",
       "      <td>appareil deffectueux a long terme</td>\n",
       "      <td>1</td>\n",
       "      <td>0</td>\n",
       "      <td>77</td>\n",
       "      <td>11</td>\n",
       "      <td>[]</td>\n",
       "      <td>negative</td>\n",
       "    </tr>\n",
       "    <tr>\n",
       "      <th>76</th>\n",
       "      <td>76</td>\n",
       "      <td>Attention cette st vous font payer des frais d...</td>\n",
       "      <td>ATTENTION AU S.A.V.</td>\n",
       "      <td>1</td>\n",
       "      <td>1</td>\n",
       "      <td>296</td>\n",
       "      <td>49</td>\n",
       "      <td>[]</td>\n",
       "      <td>negative</td>\n",
       "    </tr>\n",
       "    <tr>\n",
       "      <th>94</th>\n",
       "      <td>94</td>\n",
       "      <td>Ca ne marche pas...\\naucune possibilité de lir...</td>\n",
       "      <td>lecteur MP3 VD-tech</td>\n",
       "      <td>1</td>\n",
       "      <td>1</td>\n",
       "      <td>62</td>\n",
       "      <td>11</td>\n",
       "      <td>[]</td>\n",
       "      <td>negative</td>\n",
       "    </tr>\n",
       "  </tbody>\n",
       "</table>\n",
       "</div>"
      ],
      "text/plain": [
       "    ID                                     review_content  \\\n",
       "31  31  Boitier dus que dur externe ADDITEX Alu.\\nLe b...   \n",
       "40  40  il a marché 2 jours et depuis il ne marche plu...   \n",
       "63  63  puce graphique nvidia deffectueuse reconnue pa...   \n",
       "76  76  Attention cette st vous font payer des frais d...   \n",
       "94  94  Ca ne marche pas...\\naucune possibilité de lir...   \n",
       "\n",
       "                         review_title  review_stars  Target  content_nb_char  \\\n",
       "31               Des problemes à gogo             1       1              417   \n",
       "40                         forest gun             2       1              105   \n",
       "63  appareil deffectueux a long terme             1       0               77   \n",
       "76                ATTENTION AU S.A.V.             1       1              296   \n",
       "94                lecteur MP3 VD-tech             1       1               62   \n",
       "\n",
       "    content_nb_words keyword_count sentiment  \n",
       "31                71            []  negative  \n",
       "40                22        [bien]  negative  \n",
       "63                11            []  negative  \n",
       "76                49            []  negative  \n",
       "94                11            []  negative  "
      ]
     },
     "execution_count": 17,
     "metadata": {},
     "output_type": "execute_result"
    }
   ],
   "source": [
    "dataset_cleaned[dataset_cleaned.sentiment == 'negative'].head()"
   ]
  },
  {
   "cell_type": "markdown",
   "id": "cb4a416e-f6da-4577-9971-582b273b6806",
   "metadata": {},
   "source": [
    "**Remarques :**\n",
    "\n",
    "En ajoutant la colonne *sentiment*, j'ai constaté une incohérence entre la colonne Target et le sentiment réel des avis.\n",
    "En effet, je pensais que la colonne Target, permettait de savoir si une review est positive (1) ou negative (0). Mais là,\n",
    "en filtrant sur [sentiment == négative], j'observe des 0 et 1 dans la colonne Target. \n",
    "Exemple :\n",
    "- ligne 40 => target = 1\n",
    "- ligne 63 => target = 0\n",
    "\n",
    "On ne peut pas se baser donc sur la colonne Target, pour dire qu'une review est positive ou pas.\n",
    "\n",
    "UPDATE : La colonne Target désigne si l'avis est pertinent ou non, ou un autre critère spécifique)."
   ]
  },
  {
   "cell_type": "markdown",
   "id": "206b98c8-0de7-404f-afd3-841deead2487",
   "metadata": {},
   "source": [
    "####  Notre premier modéle :"
   ]
  },
  {
   "cell_type": "code",
   "execution_count": 18,
   "id": "b9abbd69-7799-472d-9d34-875f3d879b95",
   "metadata": {},
   "outputs": [],
   "source": [
    "from sklearn.model_selection import cross_val_score\n",
    "from sklearn.linear_model import LogisticRegression"
   ]
  },
  {
   "cell_type": "markdown",
   "id": "34c3f924-f1f1-4dbb-948e-c6bed45cf9bf",
   "metadata": {},
   "source": [
    "**Premier model :**"
   ]
  },
  {
   "cell_type": "code",
   "execution_count": 22,
   "id": "cfffe85b-364b-40d9-ac6b-219f88f288ed",
   "metadata": {
    "scrolled": true
   },
   "outputs": [
    {
     "name": "stdout",
     "output_type": "stream",
     "text": [
      "              precision    recall  f1-score   support\n",
      "\n",
      "           0       0.49      0.06      0.10      4611\n",
      "           1       0.57      0.95      0.72      6117\n",
      "\n",
      "    accuracy                           0.57     10728\n",
      "   macro avg       0.53      0.51      0.41     10728\n",
      "weighted avg       0.54      0.57      0.45     10728\n",
      "\n"
     ]
    }
   ],
   "source": [
    "dataset_cleaned_copy = dataset_cleaned.copy()\n",
    "\n",
    "X = dataset_cleaned_copy[['content_nb_char', 'content_nb_words','review_stars']]\n",
    "y = dataset_cleaned_copy['Target']\n",
    "\n",
    "model = LogisticRegression(max_iter=500,random_state=42)\n",
    "train_model(model,X,y)"
   ]
  },
  {
   "cell_type": "markdown",
   "id": "7d3d52ff-11f0-4f51-b6d1-818ab01ec7ef",
   "metadata": {},
   "source": [
    "Nos scores ne sont pas fameux..."
   ]
  },
  {
   "cell_type": "code",
   "execution_count": 23,
   "id": "f4394678-4744-40df-bfc3-bcdd2b8ef905",
   "metadata": {},
   "outputs": [],
   "source": [
    "pickle.dump(model,open('../src/logistic_reg_review','wb'))"
   ]
  },
  {
   "cell_type": "code",
   "execution_count": null,
   "id": "e7633225",
   "metadata": {},
   "outputs": [],
   "source": []
  }
 ],
 "metadata": {
  "kernelspec": {
   "display_name": "env_nlp",
   "language": "python",
   "name": "env_nlp"
  },
  "language_info": {
   "codemirror_mode": {
    "name": "ipython",
    "version": 3
   },
   "file_extension": ".py",
   "mimetype": "text/x-python",
   "name": "python",
   "nbconvert_exporter": "python",
   "pygments_lexer": "ipython3",
   "version": "3.12.6"
  }
 },
 "nbformat": 4,
 "nbformat_minor": 5
}
